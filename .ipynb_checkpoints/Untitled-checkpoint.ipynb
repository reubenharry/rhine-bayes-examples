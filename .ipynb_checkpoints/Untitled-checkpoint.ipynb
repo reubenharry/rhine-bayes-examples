{
 "cells": [
  {
   "cell_type": "markdown",
   "id": "da44f531-2b74-446e-8b55-e2a65a8a48c5",
   "metadata": {},
   "source": [
    "# Reactive programming\n",
    "\n",
    "Reactive programming is an approach to writing real-time interactive systems, like computer games or graphical user interfaces (GUIs). \n",
    "\n",
    "The core idea is to think of such a system as a **signal function**, which takes an input signal and returns an output signal. By a signal, we mean a time varying value, or equivalently, a function `Time -> a` (for values of some type `a`).\n",
    "\n",
    "The input signal for a game would have as its value user input (like key presses and mouse movements), and would return a signal whose value is an image to display to the screen.\n",
    "\n",
    "TODO: diagram"
   ]
  },
  {
   "cell_type": "markdown",
   "id": "52a3c2fc-fe08-4df5-a259-d45819dc182e",
   "metadata": {},
   "source": [
    "# Example\n",
    "\n",
    "todo: example of a simple system"
   ]
  },
  {
   "cell_type": "markdown",
   "id": "1509d875-2eae-43df-9e88-aaf8a1aae0d7",
   "metadata": {},
   "source": [
    "# Implementation\n",
    "\n",
    "We'll build a simple runnable \n",
    "\n",
    "\n",
    "\n",
    "todo\n",
    "\n",
    "A naive implementation of a signal function would look like:\n",
    "\n",
    "```haskell\n",
    "type Time = Double \n",
    "type Signal a = Time -> a \n",
    "type SignalFunction a b = Signal a -> Signal b\n",
    "```\n",
    "\n",
    "This isn't a good implementation, because we want to constraint ourselves to **causal** signal functions. To be causal means that the value of the output signal at time $t$ only depends on the values of the input signal at times $t'$, for $t' \\lt t$.\n",
    "\n",
    "The simplest version of a causal signal function implementation looks like:"
   ]
  },
  {
   "cell_type": "code",
   "execution_count": 118,
   "id": "15338c7c-7506-4d58-b595-de07618aaa8f",
   "metadata": {},
   "outputs": [
    {
     "data": {
      "text/html": [
       "<style>/* Styles used for the Hoogle display in the pager */\n",
       ".hoogle-doc {\n",
       "display: block;\n",
       "padding-bottom: 1.3em;\n",
       "padding-left: 0.4em;\n",
       "}\n",
       ".hoogle-code {\n",
       "display: block;\n",
       "font-family: monospace;\n",
       "white-space: pre;\n",
       "}\n",
       ".hoogle-text {\n",
       "display: block;\n",
       "}\n",
       ".hoogle-name {\n",
       "color: green;\n",
       "font-weight: bold;\n",
       "}\n",
       ".hoogle-head {\n",
       "font-weight: bold;\n",
       "}\n",
       ".hoogle-sub {\n",
       "display: block;\n",
       "margin-left: 0.4em;\n",
       "}\n",
       ".hoogle-package {\n",
       "font-weight: bold;\n",
       "font-style: italic;\n",
       "}\n",
       ".hoogle-module {\n",
       "font-weight: bold;\n",
       "}\n",
       ".hoogle-class {\n",
       "font-weight: bold;\n",
       "}\n",
       ".get-type {\n",
       "color: green;\n",
       "font-weight: bold;\n",
       "font-family: monospace;\n",
       "display: block;\n",
       "white-space: pre-wrap;\n",
       "}\n",
       ".show-type {\n",
       "color: green;\n",
       "font-weight: bold;\n",
       "font-family: monospace;\n",
       "margin-left: 1em;\n",
       "}\n",
       ".mono {\n",
       "font-family: monospace;\n",
       "display: block;\n",
       "}\n",
       ".err-msg {\n",
       "color: red;\n",
       "font-style: italic;\n",
       "font-family: monospace;\n",
       "white-space: pre;\n",
       "display: block;\n",
       "}\n",
       "#unshowable {\n",
       "color: red;\n",
       "font-weight: bold;\n",
       "}\n",
       ".err-msg.in.collapse {\n",
       "padding-top: 0.7em;\n",
       "}\n",
       ".highlight-code {\n",
       "white-space: pre;\n",
       "font-family: monospace;\n",
       "}\n",
       ".suggestion-warning { \n",
       "font-weight: bold;\n",
       "color: rgb(200, 130, 0);\n",
       "}\n",
       ".suggestion-error { \n",
       "font-weight: bold;\n",
       "color: red;\n",
       "}\n",
       ".suggestion-name {\n",
       "font-weight: bold;\n",
       "}\n",
       "</style><div class=\"suggestion-name\" style=\"clear:both;\">Use newtype instead of data</div><div class=\"suggestion-row\" style=\"float: left;\"><div class=\"suggestion-warning\">Found:</div><div class=\"highlight-code\" id=\"haskell\">data Mealy a b = Mealy {runMealy :: a -> (b, Mealy a b)}</div></div><div class=\"suggestion-row\" style=\"float: left;\"><div class=\"suggestion-warning\">Why Not:</div><div class=\"highlight-code\" id=\"haskell\">newtype Mealy a b = Mealy {runMealy :: a -> (b, Mealy a b)}</div></div>"
      ],
      "text/plain": [
       "Line 1: Use newtype instead of data\n",
       "Found:\n",
       "data Mealy a b = Mealy {runMealy :: a -> (b, Mealy a b)}\n",
       "Why not:\n",
       "newtype Mealy a b = Mealy {runMealy :: a -> (b, Mealy a b)}"
      ]
     },
     "metadata": {},
     "output_type": "display_data"
    }
   ],
   "source": [
    "data Mealy a b = Mealy {runMealy :: a -> (b, Mealy a b)}"
   ]
  },
  {
   "cell_type": "markdown",
   "id": "9463027d-fa3b-4973-8912-b38064f01fcc",
   "metadata": {},
   "source": [
    "In some CS literature, this is known as a *Mealy machine*. We can use it to represent a *discrete* signal function in the following way.\n",
    "\n",
    "Say that what have the input signal as a (potentially infinite) list. The idea is that we give to first value of that signal as input, and use the function `a -> (b, Mealy a b)` to obtain the first value of the output signal and a new `Mealy` machine. We feed the next value of the input signal into that `Mealy` machine, and so on.\n",
    "\n",
    "In code:"
   ]
  },
  {
   "cell_type": "code",
   "execution_count": 121,
   "id": "65020eeb-e437-41de-b623-58ec7e2ab530",
   "metadata": {},
   "outputs": [
    {
     "data": {
      "text/plain": [
       "[2,3,4,5,6,7,8,9,10,11]"
      ]
     },
     "metadata": {},
     "output_type": "display_data"
    }
   ],
   "source": [
    "\n",
    "run :: Mealy a1 a2 -> [a1] -> [a2]\n",
    "run _ [] = []\n",
    "run signalFunction inputSignal@(x1:rest) = let (y1, newSF) = runMealy signalFunction x1 in y1 : run newSF rest \n",
    "\n",
    "exampleSF = Mealy (\\x -> (x+1, exampleSF))\n",
    "\n",
    "\n",
    "take 10 $ run exampleSF [1..]"
   ]
  },
  {
   "cell_type": "markdown",
   "id": "ee2abc8f-d967-4c28-b293-ea4d4dffcc4e",
   "metadata": {},
   "source": [
    "In this example, the Mealy machine is just element-wise adding 1 to each value, which we could have just as well written `fmap (+1) [1..]`, but a Mealy machine can also represent a signal function in which the value of the output signal at a given time depends on all previous values of the input signal.\n",
    "\n",
    "The simplest example would be a scan, like:"
   ]
  },
  {
   "cell_type": "markdown",
   "id": "ee6e06e5-ed17-4129-b46a-da204632e5d8",
   "metadata": {},
   "source": [
    "It turns out that Mealy machines admit an important generalization, as follows:"
   ]
  },
  {
   "cell_type": "code",
   "execution_count": 108,
   "id": "92a4a6d7-fa88-41b4-be91-7563d94905bb",
   "metadata": {},
   "outputs": [],
   "source": [
    ":e GADTs\n",
    "\n",
    "import Control.Arrow\n",
    "import Control.Category\n",
    "\n",
    "\n",
    "data MealyT m a b where\n",
    "    ToMealyT :: (a -> m (b, MSF m a b)) -> MealyT m a b\n",
    "\n",
    "instance Monad m => Category (MealyT m) where\n",
    "instance Monad m => Arrow (MealyT m) where\n"
   ]
  },
  {
   "cell_type": "markdown",
   "id": "1ee1c8fe-ad1c-4287-9aef-9f83beb86d90",
   "metadata": {},
   "source": [
    "The idea is that each step of the Mealy machine \n",
    "\n",
    "Several Haskell libraries implement this type and these instances, such as the `machines` library which calls it `MealyT`, and `dunai` which calls it `MSF`."
   ]
  },
  {
   "cell_type": "code",
   "execution_count": 112,
   "id": "6ecc527d-9b21-42e3-b353-70336d2e4db7",
   "metadata": {},
   "outputs": [],
   "source": [
    "import Control.Monad.Identity\n",
    "import Control.Monad.Reader\n",
    "\n",
    "type SFDiscrete = MealyT Identity \n",
    "type SFContinuous = MealyT (Reader Double)\n",
    "\n"
   ]
  },
  {
   "cell_type": "code",
   "execution_count": 110,
   "id": "5446c8b2-ab5f-4eaa-93f9-976ed2ab192b",
   "metadata": {},
   "outputs": [],
   "source": [
    ":e Arrows\n",
    "\n",
    "sf :: SF\n",
    "sf = proc inputSignal -> do\n",
    "    x <- undefined -< inputSignal\n",
    "    returnA -< (x,y)"
   ]
  },
  {
   "cell_type": "code",
   "execution_count": 111,
   "id": "6baa7447-2370-4e7e-8c71-8427594c3287",
   "metadata": {},
   "outputs": [
    {
     "data": {
      "text/html": [
       "<style>/* Styles used for the Hoogle display in the pager */\n",
       ".hoogle-doc {\n",
       "display: block;\n",
       "padding-bottom: 1.3em;\n",
       "padding-left: 0.4em;\n",
       "}\n",
       ".hoogle-code {\n",
       "display: block;\n",
       "font-family: monospace;\n",
       "white-space: pre;\n",
       "}\n",
       ".hoogle-text {\n",
       "display: block;\n",
       "}\n",
       ".hoogle-name {\n",
       "color: green;\n",
       "font-weight: bold;\n",
       "}\n",
       ".hoogle-head {\n",
       "font-weight: bold;\n",
       "}\n",
       ".hoogle-sub {\n",
       "display: block;\n",
       "margin-left: 0.4em;\n",
       "}\n",
       ".hoogle-package {\n",
       "font-weight: bold;\n",
       "font-style: italic;\n",
       "}\n",
       ".hoogle-module {\n",
       "font-weight: bold;\n",
       "}\n",
       ".hoogle-class {\n",
       "font-weight: bold;\n",
       "}\n",
       ".get-type {\n",
       "color: green;\n",
       "font-weight: bold;\n",
       "font-family: monospace;\n",
       "display: block;\n",
       "white-space: pre-wrap;\n",
       "}\n",
       ".show-type {\n",
       "color: green;\n",
       "font-weight: bold;\n",
       "font-family: monospace;\n",
       "margin-left: 1em;\n",
       "}\n",
       ".mono {\n",
       "font-family: monospace;\n",
       "display: block;\n",
       "}\n",
       ".err-msg {\n",
       "color: red;\n",
       "font-style: italic;\n",
       "font-family: monospace;\n",
       "white-space: pre;\n",
       "display: block;\n",
       "}\n",
       "#unshowable {\n",
       "color: red;\n",
       "font-weight: bold;\n",
       "}\n",
       ".err-msg.in.collapse {\n",
       "padding-top: 0.7em;\n",
       "}\n",
       ".highlight-code {\n",
       "white-space: pre;\n",
       "font-family: monospace;\n",
       "}\n",
       ".suggestion-warning { \n",
       "font-weight: bold;\n",
       "color: rgb(200, 130, 0);\n",
       "}\n",
       ".suggestion-error { \n",
       "font-weight: bold;\n",
       "color: red;\n",
       "}\n",
       ".suggestion-name {\n",
       "font-weight: bold;\n",
       "}\n",
       "</style><span class='get-type'>sf :: forall (t1 :: * -> * -> *) t2 t3. Arrow t1 => t1 t2 t3</span>"
      ],
      "text/plain": [
       "sf :: forall (t1 :: * -> * -> *) t2 t3. Arrow t1 => t1 t2 t3"
      ]
     },
     "metadata": {},
     "output_type": "display_data"
    }
   ],
   "source": []
  },
  {
   "cell_type": "markdown",
   "id": "08dac228-c1aa-4e95-b879-633401a26d44",
   "metadata": {},
   "source": [
    "Arrow notation allows us to "
   ]
  }
 ],
 "metadata": {
  "kernelspec": {
   "display_name": "Haskell",
   "language": "haskell",
   "name": "haskell"
  },
  "language_info": {
   "codemirror_mode": "ihaskell",
   "file_extension": ".hs",
   "mimetype": "text/x-haskell",
   "name": "haskell",
   "pygments_lexer": "Haskell",
   "version": "8.10.7"
  }
 },
 "nbformat": 4,
 "nbformat_minor": 5
}
